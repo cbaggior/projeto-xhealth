{
 "cells": [
  {
   "cell_type": "code",
   "execution_count": 6,
   "id": "e92aa5c9-892e-4095-ab2f-1b1c389692b1",
   "metadata": {},
   "outputs": [
    {
     "name": "stdout",
     "output_type": "stream",
     "text": [
      "✅ Bibliotecas importadas!\n",
      "📂 Verificando se modelo foi criado...\n",
      "✅ modelo_default.pkl encontrado!\n",
      "🤖 Carregando modelo...\n",
      "✅ Modelo carregado!\n"
     ]
    }
   ],
   "source": [
    "# Célula 1 - Importar bibliotecas\n",
    "import joblib\n",
    "import pandas as pd\n",
    "import numpy as np\n",
    "import os\n",
    "\n",
    "print(\"✅ Bibliotecas importadas!\")\n",
    "\n",
    "# Célula 2 - Verificar se modelo existe\n",
    "print(\"📂 Verificando se modelo foi criado...\")\n",
    "if os.path.exists('modelo_default.pkl'):\n",
    "    print(\"✅ modelo_default.pkl encontrado!\")\n",
    "else:\n",
    "    print(\"❌ modelo_default.pkl NÃO encontrado!\")\n",
    "    print(\"❌ Execute primeiro o Notebook 2 completo!\")\n",
    "    print(\"❌ Não continue até o Notebook 2 estar concluído!\")\n",
    "\n",
    "# Célula 3 - Carregar modelo (SÓ EXECUTE SE O MODELO EXISTIR)\n",
    "if os.path.exists('modelo_default.pkl'):\n",
    "    print(\"🤖 Carregando modelo...\")\n",
    "    model = joblib.load('modelo_default.pkl')\n",
    "    print(\"✅ Modelo carregado!\")\n",
    "else:\n",
    "    model = None\n",
    "    print(\"❌ Não foi possível carregar o modelo!\")\n"
   ]
  },
  {
   "cell_type": "code",
   "execution_count": null,
   "id": "7083f6cb-7b9d-4a6b-be9a-2a215fa75c74",
   "metadata": {},
   "outputs": [],
   "source": []
  }
 ],
 "metadata": {
  "kernelspec": {
   "display_name": "Python 3 (ipykernel)",
   "language": "python",
   "name": "python3"
  },
  "language_info": {
   "codemirror_mode": {
    "name": "ipython",
    "version": 3
   },
   "file_extension": ".py",
   "mimetype": "text/x-python",
   "name": "python",
   "nbconvert_exporter": "python",
   "pygments_lexer": "ipython3",
   "version": "3.13.7"
  }
 },
 "nbformat": 4,
 "nbformat_minor": 5
}
